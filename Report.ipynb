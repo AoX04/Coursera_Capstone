{
 "cells": [
  {
   "cell_type": "markdown",
   "metadata": {},
   "source": [
    "# Recomendation engine for new restaurant location in santo domingo\n",
    "### By Aronis Mariano"
   ]
  },
  {
   "cell_type": "markdown",
   "metadata": {},
   "source": [
    "## Introduction: \n",
    "\n",
    "This project is intended for new business owners trying to understand the current situation of restaurant business in santo domingo, how common is it for a restaurant to be surrounded by other food stablishments? arround what kind of business do restaurants seems to thrive more? How do landmarks and subway entrances seem to affect the amount of restaurants in a certain area?\n",
    "Based on the answer to those questions, create a recomendation engine that gives new business owners an idea of what locations might be good for their new stablishment."
   ]
  },
  {
   "cell_type": "markdown",
   "metadata": {},
   "source": [
    "##  Data:\n",
    "\n",
    "#### - Foursquare places api\n",
    "To achieve our goals we will be leveraging the foursquare places api data.\n",
    "Which we can use to retrieve business data such as category based on lat lng."
   ]
  },
  {
   "cell_type": "markdown",
   "metadata": {},
   "source": [
    "```\n",
    "  {\n",
    "    \"id\": \"40abf500f964a52035f31ee4\",\n",
    "    \"name\": \"ShopMart\",\n",
    "    \"contact\": {\n",
    "      \"twitter\": \"shopmart\",\n",
    "      \"facebook\": \"1044756343124\"\n",
    "      //...\n",
    "      },\n",
    "    \"location\": {\n",
    "      \"address\": \"593 Ninth Ave\",\n",
    "      \"crossStreet\": \"at W 43rd St\",\n",
    "      \"lat\": 40.758934,\n",
    "      \"lng\": -73.992516,\n",
    "      \"distance\": 451,\n",
    "      \"postalCode\": \"10036\",\n",
    "      \"cc\": \"US\",\n",
    "      \"city\": \"New York\",\n",
    "      \"state\": \"NY\",\n",
    "      \"country\": \"United States\"\n",
    "      //...\n",
    "    },\n",
    "    \"categories\": [\n",
    "      {\n",
    "        \"id\": \"4d954b0ea243a5684a65b473\",\n",
    "        \"name\": \"Convenience Store\",\n",
    "        \"pluralName\": \"Convenience Stores\",\n",
    "        \"shortName\": \"Convenience Store\",\n",
    "        \"icon\": {\n",
    "          \"prefix\": \"https://ss3.4sqi.net/img/categories_v2/food/coffeeshop_\",\n",
    "          \"suffix\": \".png\"\n",
    "        },\n",
    "        \"primary\": true\n",
    "      }\n",
    "    ],\n",
    "    \"stats\": {\n",
    "      \"checkinsCount\": 12443,\n",
    "      \"usersCount\": 4661,\n",
    "      \"tipCount\": 652\n",
    "    },\n",
    "    \"url\": \"http://shopmart.com\",\n",
    "    \"menu\": {\n",
    "      \"url\": \"http://www.starbucks.com/menu\"\n",
    "    },\n",
    "    \"storeId\": \"9467\",\n",
    "    \"venueChains\": [\n",
    "      {\n",
    "        \"id\": \"556f676fbd6a75a99038d8ec\"\n",
    "      }\n",
    "    ]\n",
    "  },\n",
    "  //...\n",
    "  {\n",
    "    \"id\": \"40abf500f964a52035f3zzz1\",\n",
    "    \"name\": \"ShopMart\",\n",
    "    \"location\": {\n",
    "      \"distance\": 125\n",
    "      //...\n",
    "    }\n",
    "    //...\n",
    "  },\n",
    "  {\n",
    "    \"id\": \"40abf500f964a52035f3awdj\",\n",
    "    \"name\": \"ShopMart\",\n",
    "    \"location\": {\n",
    "      \"distance\": 281\n",
    "      //...\n",
    "    }\n",
    "    //...\n",
    "  }\n",
    "//...\n",
    "```"
   ]
  },
  {
   "attachments": {
    "image.png": {
     "image/png": "[encoded data removed]"
    }
   },
   "cell_type": "markdown",
   "metadata": {},
   "source": [
    "#### - Wikipedia Distrito Nacional entry\n",
    "We will be using the following wikipedia entry to retrieve the neighboorhoods names of Santo Domingo, Distrito Nacional\n",
    "https://en.wikipedia.org/wiki/Distrito_Nacional\n",
    "\n",
    "\n",
    "![image.png](attachment:image.png)"
   ]
  },
  {
   "cell_type": "markdown",
   "metadata": {},
   "source": [
    "#### - geopy.geocoders\n",
    "We will be using the following library to translate the neighboorhoods address into Lat / Lon\n"
   ]
  },
  {
   "cell_type": "code",
   "execution_count": null,
   "metadata": {},
   "outputs": [],
   "source": []
  }
 ],
 "metadata": {
  "kernelspec": {
   "display_name": "Python 3",
   "language": "python",
   "name": "python3"
  },
  "language_info": {
   "codemirror_mode": {
    "name": "ipython",
    "version": 3
   },
   "file_extension": ".py",
   "mimetype": "text/x-python",
   "name": "python",
   "nbconvert_exporter": "python",
   "pygments_lexer": "ipython3",
   "version": "3.7.1"
  }
 },
 "nbformat": 4,
 "nbformat_minor": 2
}
